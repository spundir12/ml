{
 "cells": [
  {
   "cell_type": "markdown",
   "metadata": {},
   "source": [
    "# For loop using range()"
   ]
  },
  {
   "cell_type": "code",
   "execution_count": 2,
   "metadata": {},
   "outputs": [
    {
     "name": "stdout",
     "output_type": "stream",
     "text": [
      "0\n",
      "1\n",
      "2\n",
      "3\n",
      "4\n",
      "5\n",
      "6\n",
      "7\n",
      "8\n",
      "9\n"
     ]
    }
   ],
   "source": [
    "limit=10\n",
    "for i in range(limit): # similar to for(int i=0;i<limit;i++)\n",
    "    print(i)"
   ]
  },
  {
   "cell_type": "code",
   "execution_count": 8,
   "metadata": {},
   "outputs": [
    {
     "name": "stdout",
     "output_type": "stream",
     "text": [
      "0\n",
      "2\n",
      "4\n",
      "6\n",
      "8\n"
     ]
    }
   ],
   "source": [
    "limit=10\n",
    "for i in range(0,limit,2): #similar to for(int i=0;i<limit;i+=2)\n",
    "    print(i)"
   ]
  },
  {
   "cell_type": "markdown",
   "metadata": {},
   "source": [
    "# loop (like for each)"
   ]
  },
  {
   "cell_type": "code",
   "execution_count": 10,
   "metadata": {},
   "outputs": [
    {
     "name": "stdout",
     "output_type": "stream",
     "text": [
      "10\n",
      "20\n",
      "30\n",
      "40\n",
      "50\n",
      "60\n",
      "------------\n",
      "10\n",
      "20\n",
      "30\n",
      "40\n",
      "50\n",
      "60\n"
     ]
    }
   ],
   "source": [
    "lst =[10,20,30,40,50,60]\n",
    "for item in lst:\n",
    "    print(item)\n",
    "    \n",
    "print(\"------------\")    \n",
    "#using range iterate list\n",
    "for i in range(len(lst)):\n",
    "    print(lst[i]);"
   ]
  },
  {
   "cell_type": "markdown",
   "metadata": {},
   "source": [
    "# for loop with else"
   ]
  },
  {
   "cell_type": "code",
   "execution_count": 11,
   "metadata": {},
   "outputs": [
    {
     "name": "stdout",
     "output_type": "stream",
     "text": [
      "dog\n",
      "cat\n",
      "lion\n",
      "tiger\n",
      "rat\n",
      "fox\n",
      "----Done----\n"
     ]
    }
   ],
   "source": [
    "animals=[\"dog\",\"cat\",\"lion\",\"tiger\",\"rat\",\"fox\"]\n",
    "for animal in animals:\n",
    "    print(animal)\n",
    "else:\n",
    "    print(\"----Done----\")"
   ]
  },
  {
   "cell_type": "markdown",
   "metadata": {},
   "source": [
    "# Python Program to display all prime numbers within an interval"
   ]
  },
  {
   "cell_type": "code",
   "execution_count": 29,
   "metadata": {},
   "outputs": [
    {
     "name": "stdout",
     "output_type": "stream",
     "text": [
      "enter range1:1\n",
      "enter range2:20\n",
      "2\n",
      "3\n",
      "5\n",
      "7\n",
      "11\n",
      "13\n",
      "17\n",
      "19\n"
     ]
    }
   ],
   "source": [
    "r1=int(input(\"enter range1:\"))\n",
    "r2=int(input(\"enter range2:\"))\n",
    "#print(r1,r2)\n",
    "for i in range(r1,r2+1):\n",
    " #   print(\"i=\", i)\n",
    "    isDivis=False;\n",
    "    if i>1:\n",
    "        for j in range(2,i):\n",
    "            #print(\"{} and {}\".format(i,j))\n",
    "            if i%j==0:\n",
    "                isDivis=True;\n",
    "                break;\n",
    "                \n",
    "        if not isDivis:\n",
    "            print(i);\n",
    "            "
   ]
  },
  {
   "cell_type": "code",
   "execution_count": null,
   "metadata": {},
   "outputs": [],
   "source": []
  },
  {
   "cell_type": "code",
   "execution_count": null,
   "metadata": {},
   "outputs": [],
   "source": []
  }
 ],
 "metadata": {
  "kernelspec": {
   "display_name": "Python 3",
   "language": "python",
   "name": "python3"
  },
  "language_info": {
   "codemirror_mode": {
    "name": "ipython",
    "version": 3
   },
   "file_extension": ".py",
   "mimetype": "text/x-python",
   "name": "python",
   "nbconvert_exporter": "python",
   "pygments_lexer": "ipython3",
   "version": "3.6.5"
  }
 },
 "nbformat": 4,
 "nbformat_minor": 2
}
