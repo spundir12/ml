{
 "cells": [
  {
   "cell_type": "markdown",
   "metadata": {},
   "source": [
    "# Python Keywords\n",
    "Keywords are the reserved worlds in python.(Even in any other programming language like c,c++,Java etc).\n",
    "Keywords are case sensitive and we can not use keywords as identifiers like variable name, function name etc."
   ]
  },
  {
   "cell_type": "code",
   "execution_count": 1,
   "metadata": {},
   "outputs": [
    {
     "name": "stdout",
     "output_type": "stream",
     "text": [
      "hello\n"
     ]
    }
   ],
   "source": [
    "print(\"Kewords in Python\")"
   ]
  },
  {
   "cell_type": "code",
   "execution_count": 2,
   "metadata": {},
   "outputs": [
    {
     "name": "stdout",
     "output_type": "stream",
     "text": [
      "['False', 'None', 'True', 'and', 'as', 'assert', 'break', 'class', 'continue', 'def', 'del', 'elif', 'else', 'except', 'finally', 'for', 'from', 'global', 'if', 'import', 'in', 'is', 'lambda', 'nonlocal', 'not', 'or', 'pass', 'raise', 'return', 'try', 'while', 'with', 'yield']\n",
      "\n",
      " Total number of keyword:  33\n"
     ]
    }
   ],
   "source": [
    "import keyword\n",
    "print(keyword.kwlist)\n",
    "print(\"\\n Total number of keyword: \",len(keyword.kwlist))"
   ]
  },
  {
   "cell_type": "markdown",
   "metadata": {},
   "source": [
    "# Identifiers \n",
    "Identifier is the name of given entity like class, funtion, variable etc to differentiate one from other.\n",
    "\n",
    "Rule for Identifires :\n",
    "1. Identifer can be combination of letters in lowercase(a-z) or uppercase(A-Z) or digits (0-9) or an underscore(_)\n",
    "2. Keywords can not be uses as Identifer\n",
    "3. Nuber can not be a first letter in identifier. For example 2abc is wrong while abc2 is correct name of identifier\n",
    "4. We can not use any special character except underscore (_). $,!,@,#,%, etc not allowed as Identiers  \n"
   ]
  },
  {
   "cell_type": "code",
   "execution_count": 5,
   "metadata": {},
   "outputs": [
    {
     "name": "stdout",
     "output_type": "stream",
     "text": [
      "12 ,  Raghu ,  First Version\n"
     ]
    }
   ],
   "source": [
    "#valid identifier\n",
    "abc=12;\n",
    "first_Name=\"Raghu\"\n",
    "_version_1_A = \"First Version\"\n",
    "print(abc,\", \",first_Name,\", \",_version_1_A)"
   ]
  },
  {
   "cell_type": "code",
   "execution_count": 6,
   "metadata": {},
   "outputs": [
    {
     "ename": "SyntaxError",
     "evalue": "invalid syntax (<ipython-input-6-5fcadfc57d49>, line 2)",
     "output_type": "error",
     "traceback": [
      "\u001b[0;36m  File \u001b[0;32m\"<ipython-input-6-5fcadfc57d49>\"\u001b[0;36m, line \u001b[0;32m2\u001b[0m\n\u001b[0;31m    1a_ab=1;\u001b[0m\n\u001b[0m        ^\u001b[0m\n\u001b[0;31mSyntaxError\u001b[0m\u001b[0;31m:\u001b[0m invalid syntax\n"
     ]
    }
   ],
   "source": [
    "#Invalid Identifers\n",
    "1a_ab=1;\n",
    "name@ = \"PQR\"\n",
    "global = \"XYZ\" #keywords can not be used\n",
    "# code will not compile. it will give Syntax Error as invalid token or invalid syntax"
   ]
  }
 ],
 "metadata": {
  "kernelspec": {
   "display_name": "Python 3",
   "language": "python",
   "name": "python3"
  },
  "language_info": {
   "codemirror_mode": {
    "name": "ipython",
    "version": 3
   },
   "file_extension": ".py",
   "mimetype": "text/x-python",
   "name": "python",
   "nbconvert_exporter": "python",
   "pygments_lexer": "ipython3",
   "version": "3.6.5"
  }
 },
 "nbformat": 4,
 "nbformat_minor": 2
}
