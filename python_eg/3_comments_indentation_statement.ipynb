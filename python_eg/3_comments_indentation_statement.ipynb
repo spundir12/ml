{
 "cells": [
  {
   "cell_type": "markdown",
   "metadata": {},
   "source": [
    "# Comment\n",
    "in python we use # for comment"
   ]
  },
  {
   "cell_type": "code",
   "execution_count": 2,
   "metadata": {},
   "outputs": [
    {
     "name": "stdout",
     "output_type": "stream",
     "text": [
      "hello\n"
     ]
    }
   ],
   "source": [
    "#below python code to print hello \n",
    "print(\"hello\")"
   ]
  },
  {
   "cell_type": "markdown",
   "metadata": {},
   "source": [
    "# Multi Line Comment\n",
    "We can write multi line comments using ''' or \"\"\""
   ]
  },
  {
   "cell_type": "code",
   "execution_count": 4,
   "metadata": {},
   "outputs": [
    {
     "name": "stdout",
     "output_type": "stream",
     "text": [
      "Hello\n",
      "MultiLine comment example\n"
     ]
    }
   ],
   "source": [
    "'''This is multiline comment example\n",
    "we are using single quote thrice to use mult-line comment '''\n",
    "print(\"Hello\")\n",
    "\n",
    "\n",
    "\"\"\"useing double quotes thrice also we can use multiline comment\n",
    "This is the example of multi line comment\"\"\"\n",
    "print(\"MultiLine comment example\")"
   ]
  },
  {
   "cell_type": "markdown",
   "metadata": {},
   "source": [
    "# Python Indentation \n",
    "1. Most of programming language uses braces {} to difine a block of code but python uses indentation.\n",
    "   Code block (method body, loop body, etc) start with indentation and ends with first unindented line.\n",
    "2. The amount of indentation is upto you but it must be consistent through out that block\n",
    "3. Generealy four whitespaces are used for indentation and preferred over tabs."
   ]
  },
  {
   "cell_type": "code",
   "execution_count": 9,
   "metadata": {},
   "outputs": [
    {
     "name": "stdout",
     "output_type": "stream",
     "text": [
      "0\n",
      "1\n",
      "2\n",
      "3\n",
      "4\n",
      "5\n",
      "6\n",
      "7\n",
      "8\n",
      "9\n",
      "done\n"
     ]
    }
   ],
   "source": [
    "#example of indentaion in for loop\n",
    "for i in range(10):\n",
    "    print(i)\n",
    " #print(\"done\")#no proper indentation. Indentation Error\n",
    "print(\"done\")"
   ]
  },
  {
   "cell_type": "markdown",
   "metadata": {},
   "source": [
    "# Multi-Line Statement\n",
    "1. using \\ we can write our statement in multiline. \n",
    "2. otherwise we can use parenthesis () for multi line"
   ]
  },
  {
   "cell_type": "code",
   "execution_count": 11,
   "metadata": {},
   "outputs": [
    {
     "name": "stdout",
     "output_type": "stream",
     "text": [
      "55\n",
      "55\n"
     ]
    }
   ],
   "source": [
    "sum = 1 + 2 + 3 + 4+ \\\n",
    "      5 + 6 + 7 + 8+ \\\n",
    "      9 + 10\n",
    "print(sum)\n",
    "\n",
    "\n",
    "sum = (1 + 2 + 3 + 4+\n",
    "      5 + 6 + 7 + 8+\n",
    "      9 + 10)\n",
    "print(sum)\n"
   ]
  },
  {
   "cell_type": "code",
   "execution_count": 12,
   "metadata": {},
   "outputs": [
    {
     "name": "stdout",
     "output_type": "stream",
     "text": [
      "50\n"
     ]
    }
   ],
   "source": [
    "#multiple statement in same line\n",
    "a=10; b=20; c=20; d=a+b+c;\n",
    "print(d)"
   ]
  },
  {
   "cell_type": "code",
   "execution_count": null,
   "metadata": {},
   "outputs": [],
   "source": []
  }
 ],
 "metadata": {
  "kernelspec": {
   "display_name": "Python 3",
   "language": "python",
   "name": "python3"
  },
  "language_info": {
   "codemirror_mode": {
    "name": "ipython",
    "version": 3
   },
   "file_extension": ".py",
   "mimetype": "text/x-python",
   "name": "python",
   "nbconvert_exporter": "python",
   "pygments_lexer": "ipython3",
   "version": "3.6.5"
  }
 },
 "nbformat": 4,
 "nbformat_minor": 2
}
