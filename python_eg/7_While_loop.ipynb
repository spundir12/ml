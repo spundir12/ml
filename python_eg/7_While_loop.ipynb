{
 "cells": [
  {
   "cell_type": "markdown",
   "metadata": {},
   "source": [
    "# While Loop"
   ]
  },
  {
   "cell_type": "code",
   "execution_count": 3,
   "metadata": {},
   "outputs": [
    {
     "name": "stdout",
     "output_type": "stream",
     "text": [
      "1\n",
      "2\n",
      "3\n",
      "4\n",
      "5\n"
     ]
    }
   ],
   "source": [
    "arrlist=[1,2,3,4,5]\n",
    "index=0\n",
    "while index < len(arrlist):\n",
    "    print(arrlist[index])\n",
    "    index+=1"
   ]
  },
  {
   "cell_type": "markdown",
   "metadata": {},
   "source": [
    "# while loop with else"
   ]
  },
  {
   "cell_type": "code",
   "execution_count": 5,
   "metadata": {},
   "outputs": [
    {
     "name": "stdout",
     "output_type": "stream",
     "text": [
      "Result is 24\n"
     ]
    }
   ],
   "source": [
    "lst=[2,3,1,4]\n",
    "ind=0;\n",
    "prod=1;\n",
    "while ind < len(lst):\n",
    "    prod*=lst[ind]\n",
    "    ind+=1\n",
    "else:\n",
    "    print(\"Result is {}\".format(prod))"
   ]
  },
  {
   "cell_type": "markdown",
   "metadata": {},
   "source": [
    "# find number is prime or not"
   ]
  },
  {
   "cell_type": "code",
   "execution_count": 11,
   "metadata": {},
   "outputs": [
    {
     "name": "stdout",
     "output_type": "stream",
     "text": [
      "Enter a number:15\n",
      "15 is divisible by 3\n",
      "15 is divisible by 5\n",
      "15 is not prime\n"
     ]
    }
   ],
   "source": [
    "num=int(input(\"Enter a number:\"))\n",
    "ind=2;\n",
    "isDiv=False;\n",
    "while ind <num:\n",
    "    if num%ind==0:\n",
    "        isDiv=True\n",
    "        print(\"{} is divisible by {}\".format(num,ind)) \n",
    "    ind+=1;\n",
    "if isDiv:\n",
    "    print(\"{} is not prime\".format(num))\n",
    "else:\n",
    "    print(\"{} is prime\".format(num))"
   ]
  },
  {
   "cell_type": "code",
   "execution_count": null,
   "metadata": {},
   "outputs": [],
   "source": []
  }
 ],
 "metadata": {
  "kernelspec": {
   "display_name": "Python 3",
   "language": "python",
   "name": "python3"
  },
  "language_info": {
   "codemirror_mode": {
    "name": "ipython",
    "version": 3
   },
   "file_extension": ".py",
   "mimetype": "text/x-python",
   "name": "python",
   "nbconvert_exporter": "python",
   "pygments_lexer": "ipython3",
   "version": "3.6.5"
  }
 },
 "nbformat": 4,
 "nbformat_minor": 2
}
