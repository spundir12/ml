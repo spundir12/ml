{
 "cells": [
  {
   "cell_type": "markdown",
   "metadata": {},
   "source": [
    "# 1. Write a function that input a number and prints the multiplication table of that number"
   ]
  },
  {
   "cell_type": "code",
   "execution_count": 33,
   "metadata": {},
   "outputs": [
    {
     "name": "stdout",
     "output_type": "stream",
     "text": [
      "Enter number-3\n",
      "-3 * 1 =  -3\n",
      "-3 * 2 =  -6\n",
      "-3 * 3 =  -9\n",
      "-3 * 4 =  -12\n",
      "-3 * 5 =  -15\n",
      "-3 * 6 =  -18\n",
      "-3 * 7 =  -21\n",
      "-3 * 8 =  -24\n",
      "-3 * 9 =  -27\n",
      "-3 * 10 =  -30\n"
     ]
    }
   ],
   "source": [
    "\n",
    "def printTable():\n",
    "    \"\"\"\n",
    "        print multiplication table from 1 to n\n",
    "    \"\"\"\n",
    "    try:\n",
    "        num = int(input(\"Enter number\"))\n",
    "        for i in range(1,11):\n",
    "            print(\"{} * {} =  {}\".format(num,i,num*i))\n",
    "    except(ValueError):\n",
    "        print(\"Error! enter number\")\n",
    "printTable()"
   ]
  },
  {
   "cell_type": "markdown",
   "metadata": {},
   "source": [
    "# 2. Write a program to print twin primes less than 1000. If two consecutive odd numbers are both prime then they are known as twin primes\n"
   ]
  },
  {
   "cell_type": "code",
   "execution_count": 23,
   "metadata": {},
   "outputs": [
    {
     "name": "stdout",
     "output_type": "stream",
     "text": [
      "3,5\n",
      "5,7\n",
      "11,13\n",
      "17,19\n",
      "29,31\n",
      "41,43\n",
      "59,61\n",
      "71,73\n",
      "101,103\n",
      "107,109\n",
      "137,139\n",
      "149,151\n",
      "179,181\n",
      "191,193\n",
      "197,199\n",
      "227,229\n",
      "239,241\n",
      "269,271\n",
      "281,283\n",
      "311,313\n",
      "347,349\n",
      "419,421\n",
      "431,433\n",
      "461,463\n",
      "521,523\n",
      "569,571\n",
      "599,601\n",
      "617,619\n",
      "641,643\n",
      "659,661\n",
      "809,811\n",
      "821,823\n",
      "827,829\n",
      "857,859\n",
      "881,883\n"
     ]
    }
   ],
   "source": [
    "#print twin primes if to consecutive odd numbers are print they are known as twin primes\n",
    "#solution: First find the primeList and then check if number is odd and two number's difference is 2;\n",
    "primeList=[]\n",
    "for i in range(2,1001):\n",
    "    isPrime=True;\n",
    "    for j in range(2,i):\n",
    "        if i%j==0:\n",
    "            isPrime=False\n",
    "            break\n",
    "    if isPrime:\n",
    "        primeList.append(i)\n",
    "\n",
    "pre=-1;\n",
    "twinPrimeList=[]\n",
    "for i in primeList:\n",
    "   # print(\"{},{}\".format(pre,i))\n",
    "    if (i-pre)==2:\n",
    "        print(\"{},{}\".format(pre,i))\n",
    "    pre=i"
   ]
  },
  {
   "cell_type": "markdown",
   "metadata": {},
   "source": [
    "# 3. Write a program to find out the prime factors of a number. Example: prime factors of 56 - 2, 2, 2, 7\n"
   ]
  },
  {
   "cell_type": "code",
   "execution_count": 40,
   "metadata": {},
   "outputs": [
    {
     "name": "stdout",
     "output_type": "stream",
     "text": [
      "Enter Number:32\n",
      "sqrt: 6\n",
      "[2, 2, 2, 2, 2]\n"
     ]
    }
   ],
   "source": [
    "import math\n",
    "def isPrime(num):\n",
    "    \"\"\"\n",
    "    check if given number is prime or not.\n",
    "    If we check the prime condition till square root of a number we can get the result\n",
    "    \"\"\"\n",
    "    sqrt = int(math.sqrt(num))+1\n",
    "    #print(\"SQRT of {} is {}\".format(num,sqrt))\n",
    "    for i in range(2,sqrt+1):\n",
    "        if num%i==0 and num!=2:\n",
    "            return False\n",
    "    return True;\n",
    "\n",
    "num=0\n",
    "try:\n",
    "    num=int(input(\"Enter Number:\"))\n",
    "    lst=[]\n",
    "    if isPrime(num):\n",
    "        lst.append(num)\n",
    "        print(lst) \n",
    "    else:\n",
    "        i=2\n",
    "        sqrt=int(math.sqrt(num))+1\n",
    "        print(\"sqrt:\",sqrt)\n",
    "        while num>=i:\n",
    "            if num%i==0:\n",
    "                num=num/i;\n",
    "                if isPrime(i):\n",
    "                    lst.append(i);\n",
    "            else:\n",
    "                i+=1\n",
    "            #print(\"{},{}\".format(i,num))\n",
    "        print(lst);\n",
    "except(ValueError):\n",
    "    print(\"ERROR: Please Enter Number\")"
   ]
  },
  {
   "cell_type": "markdown",
   "metadata": {},
   "source": [
    "# 4. Write a program to implement these formulae of permutations and combinations. Number of permutations of n objects taken r at a time: p(n, r) = n! / (n-r)!. Number of combinations of n objects taken r at a time is: c(n, r) = n! / (r!*(n-r)!) = p(n,r) / r!"
   ]
  },
  {
   "cell_type": "code",
   "execution_count": 53,
   "metadata": {},
   "outputs": [
    {
     "name": "stdout",
     "output_type": "stream",
     "text": [
      "C(n,r)=10.0\n"
     ]
    }
   ],
   "source": [
    "\n",
    "from functools import reduce\n",
    "def computeP(n,r):\n",
    "    \"\"\"\n",
    "    compute nPr : n!/(n-r)!\n",
    "    \"\"\"\n",
    "    nfact=reduce(lambda x,y: (x*y),range(1,n+1))\n",
    "    #dfact stands for difference of (n-r)!\n",
    "    dfact=reduce(lambda x,y: x*y,range(1,(n-r)+1))\n",
    "    #print(dfact)\n",
    "    return nfact/dfact\n",
    "\n",
    "def computeC(n,r):\n",
    "    \"\"\"\n",
    "    compute nCr : n!/(r!*(n-r)!) ==> nPr/r!\n",
    "    \"\"\"\n",
    "    rfact=reduce(lambda x,y:(x*y),range(1,r+1))\n",
    "    npr=computeP(n,r);\n",
    "    return npr/rfact;\n",
    "\n",
    "c=computeC(5,3)\n",
    "print(\"C(n,r)={}\".format(c))\n",
    "\n"
   ]
  },
  {
   "cell_type": "markdown",
   "metadata": {},
   "source": [
    "# 5. Write a function that converts a decimal number to binary number\n"
   ]
  },
  {
   "cell_type": "code",
   "execution_count": 22,
   "metadata": {},
   "outputs": [
    {
     "name": "stdout",
     "output_type": "stream",
     "text": [
      "[0, 1, 0, 0]\n"
     ]
    }
   ],
   "source": [
    "def decimalToBinary(n):\n",
    "    lst=[]\n",
    "    while n>0:\n",
    "        r=int(n%2)\n",
    "        lst.insert(0,r)\n",
    "        n=int(n/2);\n",
    "    lst.insert(0,n)\n",
    "    return lst\n",
    "d = int(4)\n",
    "print(decimalToBinary(d))"
   ]
  },
  {
   "cell_type": "markdown",
   "metadata": {},
   "source": [
    "# 6. Write a function cubesum() that accepts an integer and returns the sum of the cubes of individual digits of that number. Use this function to make functions PrintArmstrong() and isArmstrong() to print Armstrong numbers and to find whether is an Armstrong number."
   ]
  },
  {
   "cell_type": "code",
   "execution_count": 45,
   "metadata": {},
   "outputs": [
    {
     "name": "stdout",
     "output_type": "stream",
     "text": [
      "[1, 153, 370, 371, 407]\n"
     ]
    }
   ],
   "source": [
    "def cubesum(n):\n",
    "    t=n\n",
    "    _sum=0; \n",
    "    while n>0:\n",
    "        val=int(n%10);\n",
    "        #print(\"v={},v**3={}\".format(val,val**3))\n",
    "        val=val**3;\n",
    "        _sum+=val;\n",
    "        n=int(n/10)\n",
    "    #print(\"n={},_sum={}\".format(t,_sum))\n",
    "    return _sum\n",
    "def isArmstranong(n):\n",
    "    cs=cubesum(n)\n",
    "    if cs==n:\n",
    "        return True;\n",
    "    else :\n",
    "        return False;\n",
    "def printArmstrong(n):\n",
    "    if isArmstranong(n):\n",
    "        return n\n",
    "    else:\n",
    "        return 0\n",
    "lst = list(filter(printArmstrong,range(1,1001)))\n",
    "print(lst)"
   ]
  },
  {
   "cell_type": "markdown",
   "metadata": {},
   "source": [
    "# 7. Write a function prodDigits() that inputs a number and returns the product of digits of that number."
   ]
  },
  {
   "cell_type": "code",
   "execution_count": 24,
   "metadata": {},
   "outputs": [
    {
     "name": "stdout",
     "output_type": "stream",
     "text": [
      "enter number:-86\n",
      "prod digit: 8\n"
     ]
    }
   ],
   "source": [
    "def prodDigits(n):\n",
    "    s=1\n",
    "    while n!=0:\n",
    "        r=int(n%10)\n",
    "        #print(r)\n",
    "        s*=r\n",
    "        n=int(n/10)\n",
    "    return s;\n",
    "n = int(input(\"enter number:\"))\n",
    "res = prodDigits(n)\n",
    "print(\"prod digit:\",res)"
   ]
  },
  {
   "cell_type": "markdown",
   "metadata": {},
   "source": [
    "# 8. If all digits of a number n are multiplied by each other repeating with the product, the one digit number obtained at last is called the multiplicative digital root of n. The number of times digits need to be multiplied to reach one digit is called the multiplicative persistance of n.\n",
    "Example: \n",
    "86 -> 48 -> 32 -> 6 (MDR 6, MPersistence 3) \n",
    "\n",
    "341 -> 12->2 (MDR 2, MPersistence 2)\n",
    "\n",
    "Using the function prodDigits() of previous exercise write functions MDR() and MPersistence() that input a number and return its multiplicative digital root and multiplicative persistence respectively"
   ]
  },
  {
   "cell_type": "code",
   "execution_count": 30,
   "metadata": {},
   "outputs": [
    {
     "name": "stdout",
     "output_type": "stream",
     "text": [
      "please enter number:-86\n",
      "res: -6\n",
      "mPersist: 3\n"
     ]
    }
   ],
   "source": [
    "def MDR(n):\n",
    "    while n>9:\n",
    "        n=prodDigits(n)\n",
    "    return n;\n",
    "def MPersistence(n):\n",
    "    count=0\n",
    "    while n>9:\n",
    "        count+=1;\n",
    "        n=prodDigits(n)\n",
    "    return count\n",
    "        \n",
    "    \n",
    "n=int(input(\"please enter number:\"))\n",
    "isNeg=False;\n",
    "if n<0:\n",
    "    n=abs(n);\n",
    "    isNeg=True\n",
    "res = MDR(n)\n",
    "sign=\"\"\n",
    "if isNeg:\n",
    "    sign=\"-\";\n",
    "\n",
    "print(\"res: {}{}\".format(sign,res))\n",
    "\n",
    "mPersist=MPersistence(n)\n",
    "print(\"mPersist:\",mPersist)"
   ]
  },
  {
   "cell_type": "markdown",
   "metadata": {},
   "source": [
    "# 9. Write a function sumPdivisors() that finds the sum of proper divisors of a number. Proper divisors of a number are those numbers by which the number is divisible, except the number itself. For example proper divisors of 36 are 1, 2, 3, 4, 6, 9, 18"
   ]
  },
  {
   "cell_type": "code",
   "execution_count": 60,
   "metadata": {},
   "outputs": [
    {
     "name": "stdout",
     "output_type": "stream",
     "text": [
      "1\n"
     ]
    }
   ],
   "source": [
    "import math\n",
    "def sumPdivisors(num):\n",
    "    sm=1\n",
    "    sqrt=int(math.sqrt(num));\n",
    "    #print(sqrt)\n",
    "    for i in range(2,sqrt+1):\n",
    "        if num%i==0:\n",
    "            sm+=i\n",
    "            sm+=int(num/i)\n",
    "        \n",
    "    return sm\n",
    "\n",
    "num=223#284\n",
    "sm = sumPdivisors(num)\n",
    "print(sm)\n"
   ]
  },
  {
   "cell_type": "markdown",
   "metadata": {},
   "source": [
    "# 10. A number is called perfect if the sum of proper divisors of that number is equal to the number. For example 28 is perfect number, since 1+2+4+7+14=28. Write a program to print all the perfect numbers in a given range\n"
   ]
  },
  {
   "cell_type": "code",
   "execution_count": 26,
   "metadata": {},
   "outputs": [
    {
     "name": "stdout",
     "output_type": "stream",
     "text": [
      "[1, 6, 28, 496, 8128]\n"
     ]
    }
   ],
   "source": [
    "def allPerfectNumber(num):\n",
    "    return sumPdivisors(num)==num\n",
    "lst = list(filter(allPerfectNumber,range(1,10000)))\n",
    "print(lst)"
   ]
  },
  {
   "cell_type": "markdown",
   "metadata": {},
   "source": [
    "# 11. Two different numbers are called amicable numbers if the sum of the proper divisors of each is equal to the other number. For example 220 and 284 are amicable numbers.\n",
    "\n",
    "Sum of proper divisors of 220 = 1+2+4+5+10+11+20+22+44+55+110 = 284 \n",
    "\n",
    "Sum of proper divisors of 284 = 1+2+4+71+142 = 220\n",
    "Write a function to print pairs of amicable numbers in a range"
   ]
  },
  {
   "cell_type": "code",
   "execution_count": 63,
   "metadata": {},
   "outputs": [
    {
     "name": "stdout",
     "output_type": "stream",
     "text": [
      "[(31, 221), (35, 289), (37, 299), (49, 287), (97, 275), (202, 230), (208, 268), (214, 266), (218, 232), (218, 286), (220, 284), (226, 292), (250, 290), (274, 296)]\n"
     ]
    }
   ],
   "source": [
    "def printAmicableNumbers(limit):\n",
    "    _set=set()\n",
    "    lst=[]\n",
    "    for i in range(200,300):\n",
    "        n=sumPdivisors(i);\n",
    "        if n in _set and n!=1:\n",
    "            _set.remove(n)\n",
    "            _set.discard(i)\n",
    "           # print(\"{} in set {}\".format(n,i));\n",
    "            lst.append((n,i))\n",
    "        else:\n",
    "            _set.add(i)\n",
    "            _set.add(n)\n",
    "        #print(\"n={} and i={}\".format(n,i))\n",
    "    return lst\n",
    "limit=301\n",
    "lst = printAmicableNumbers(limit)\n",
    "lst.sort()\n",
    "print(lst)    \n",
    "#print(dir(set))"
   ]
  },
  {
   "cell_type": "markdown",
   "metadata": {},
   "source": [
    "# 12. Write a program which can filter odd numbers in a list by using filter function\n"
   ]
  },
  {
   "cell_type": "code",
   "execution_count": 43,
   "metadata": {},
   "outputs": [
    {
     "name": "stdout",
     "output_type": "stream",
     "text": [
      "[1, 3, 5, 7, 9, 11, 13, 15, 17, 19, 21, 23, 25, 27, 29, 31, 33, 35, 37, 39, 41, 43, 45, 47, 49, 51, 53, 55, 57, 59, 61, 63, 65, 67, 69, 71, 73, 75, 77, 79, 81, 83, 85, 87, 89, 91, 93, 95, 97, 99, 101, 103, 105, 107, 109, 111, 113, 115, 117, 119, 121, 123, 125, 127, 129, 131, 133, 135, 137, 139, 141, 143, 145, 147, 149, 151, 153, 155, 157, 159, 161, 163, 165, 167, 169, 171, 173, 175, 177, 179, 181, 183, 185, 187, 189, 191, 193, 195, 197, 199, 201, 203, 205, 207, 209, 211, 213, 215, 217, 219, 221, 223, 225, 227, 229, 231, 233, 235, 237, 239, 241, 243, 245, 247, 249, 251, 253, 255, 257, 259, 261, 263, 265, 267, 269, 271, 273, 275, 277, 279, 281, 283, 285, 287, 289, 291, 293, 295, 297, 299, 301, 303, 305, 307, 309, 311, 313, 315, 317, 319, 321, 323, 325, 327, 329, 331, 333, 335, 337, 339, 341, 343, 345, 347, 349, 351, 353, 355, 357, 359, 361, 363, 365, 367, 369, 371, 373, 375, 377, 379, 381, 383, 385, 387, 389, 391, 393, 395, 397, 399, 401, 403, 405, 407, 409, 411, 413, 415, 417, 419, 421, 423, 425, 427, 429, 431, 433, 435, 437, 439, 441, 443, 445, 447, 449, 451, 453, 455, 457, 459, 461, 463, 465, 467, 469, 471, 473, 475, 477, 479, 481, 483, 485, 487, 489, 491, 493, 495, 497, 499, 501, 503, 505, 507, 509, 511, 513, 515, 517, 519, 521, 523, 525, 527, 529, 531, 533, 535, 537, 539, 541, 543, 545, 547, 549, 551, 553, 555, 557, 559, 561, 563, 565, 567, 569, 571, 573, 575, 577, 579, 581, 583, 585, 587, 589, 591, 593, 595, 597, 599, 601, 603, 605, 607, 609, 611, 613, 615, 617, 619, 621, 623, 625, 627, 629, 631, 633, 635, 637, 639, 641, 643, 645, 647, 649, 651, 653, 655, 657, 659, 661, 663, 665, 667, 669, 671, 673, 675, 677, 679, 681, 683, 685, 687, 689, 691, 693, 695, 697, 699, 701, 703, 705, 707, 709, 711, 713, 715, 717, 719, 721, 723, 725, 727, 729, 731, 733, 735, 737, 739, 741, 743, 745, 747, 749, 751, 753, 755, 757, 759, 761, 763, 765, 767, 769, 771, 773, 775, 777, 779, 781, 783, 785, 787, 789, 791, 793, 795, 797, 799, 801, 803, 805, 807, 809, 811, 813, 815, 817, 819, 821, 823, 825, 827, 829, 831, 833, 835, 837, 839, 841, 843, 845, 847, 849, 851, 853, 855, 857, 859, 861, 863, 865, 867, 869, 871, 873, 875, 877, 879, 881, 883, 885, 887, 889, 891, 893, 895, 897, 899, 901, 903, 905, 907, 909, 911, 913, 915, 917, 919, 921, 923, 925, 927, 929, 931, 933, 935, 937, 939, 941, 943, 945, 947, 949, 951, 953, 955, 957, 959, 961, 963, 965, 967, 969, 971, 973, 975, 977, 979, 981, 983, 985, 987, 989, 991, 993, 995, 997, 999]\n"
     ]
    }
   ],
   "source": [
    "lst = list(filter((lambda x: x%2==1),range(1,1001)))\n",
    "print(lst)"
   ]
  },
  {
   "cell_type": "markdown",
   "metadata": {},
   "source": [
    "# 13. Write a program which can map() to make a list whose elements are cube of elements in a given list\n"
   ]
  },
  {
   "cell_type": "code",
   "execution_count": 48,
   "metadata": {},
   "outputs": [
    {
     "name": "stdout",
     "output_type": "stream",
     "text": [
      "[1, 8, 27, 64, 125, 216, 343, 512, 729, 1000, 1331, 1728, 2197, 2744, 3375, 4096, 4913, 5832, 6859]\n"
     ]
    }
   ],
   "source": [
    "lst=list(map((lambda x:x**3),range(1,20)))\n",
    "print(lst)"
   ]
  },
  {
   "cell_type": "markdown",
   "metadata": {},
   "source": [
    "# 14. Write a program which can map() and filter() to make a list whose elements are cube of even number in a given list"
   ]
  },
  {
   "cell_type": "code",
   "execution_count": 49,
   "metadata": {},
   "outputs": [
    {
     "name": "stdout",
     "output_type": "stream",
     "text": [
      "Filter :  [2, 4, 6, 8, 10, 12, 14, 16, 18]\n",
      "map :  [8, 64, 216, 512, 1000, 1728, 2744, 4096, 5832]\n"
     ]
    }
   ],
   "source": [
    "lst=list(filter((lambda x:x%2==0),range(1,20)))\n",
    "print(\"Filter : \",lst)\n",
    "lst=list(map((lambda x:x**3),lst))\n",
    "print(\"map : \",lst)"
   ]
  },
  {
   "cell_type": "code",
   "execution_count": null,
   "metadata": {},
   "outputs": [],
   "source": []
  }
 ],
 "metadata": {
  "kernelspec": {
   "display_name": "Python 3",
   "language": "python",
   "name": "python3"
  },
  "language_info": {
   "codemirror_mode": {
    "name": "ipython",
    "version": 3
   },
   "file_extension": ".py",
   "mimetype": "text/x-python",
   "name": "python",
   "nbconvert_exporter": "python",
   "pygments_lexer": "ipython3",
   "version": "3.6.5"
  }
 },
 "nbformat": 4,
 "nbformat_minor": 2
}
