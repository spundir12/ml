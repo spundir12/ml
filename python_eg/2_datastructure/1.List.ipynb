{
 "cells": [
  {
   "cell_type": "markdown",
   "metadata": {},
   "source": [
    "# List Example"
   ]
  },
  {
   "cell_type": "code",
   "execution_count": 1,
   "metadata": {},
   "outputs": [
    {
     "name": "stdout",
     "output_type": "stream",
     "text": [
      "Empty List : []\n",
      "Int List [1, 3, 4]\n",
      "List type <class 'list'>\n",
      "Int List 3\n",
      "List of list [[1, 2, 3, 4], ['A', 'B', 'C', 'D']]\n",
      "List of different data types  [10, 20.5, True, 'A', ('Tuple elem 1', 'Tuple elem2')]\n"
     ]
    }
   ],
   "source": [
    "#list are mutable \n",
    "#empty list\n",
    "lst=[]\n",
    "print(\"Empty List :\",lst);\n",
    "#list of int\n",
    "lst=[1,3,4]\n",
    "print(\"Int List\",lst);\n",
    "print(\"List type\",type(lst));\n",
    "print(\"Int List\",len(lst));\n",
    "\n",
    "#list of list\n",
    "listOfList=[[1,2,3,4],[\"A\",'B','C',\"D\"]]\n",
    "print(\"List of list\",listOfList);\n",
    "\n",
    "#list of different data types \n",
    "listOfList=[10,20.5,True,\"A\",(\"Tuple elem 1\",\"Tuple elem2\")]#last element is type of tupel\n",
    "print(\"List of different data types \",listOfList);\n",
    "\n",
    "\n",
    "\n"
   ]
  },
  {
   "cell_type": "markdown",
   "metadata": {},
   "source": [
    "# List Append, List Insert, List Extend"
   ]
  },
  {
   "cell_type": "code",
   "execution_count": 22,
   "metadata": {},
   "outputs": [
    {
     "name": "stdout",
     "output_type": "stream",
     "text": [
      "[1, 2, 3, [1, 2, 3], 'New element']\n",
      "['First element', 1, 2, 3, [1, 2, 3], 'New element']\n",
      "['First element', 1, 2, 3, [1, 2, 3], 'New element', 'last element']\n",
      "['First element', 1, 2, 3, [1, 2, 3], 'New element', 'last element', 'last element2']\n",
      "['First element', 1, 2, 3, [1, 2, 3], 'New element', 'last element', '- End element', 'last element2']\n",
      "['First element', 1, 2, 3, [1, 2, 3], 'New element', 'last element', '- End2 element', '- End element', 'last element2']\n",
      "Extend example: [1, 2, 3, 4, 5, 6]\n"
     ]
    }
   ],
   "source": [
    "l1=[1,2,3]\n",
    "list1=[1,2,3]\n",
    "\n",
    "#append always append element at the end\n",
    "list1.append(l1)\n",
    "list1.append(\"New element\")\n",
    "print(list1)\n",
    "\n",
    "#insert can be done at specific location\n",
    "list1.insert(0,\"First element\")\n",
    "print(list1);\n",
    "\n",
    "# we have to spcify the index also\n",
    "#insert() takes exactly 2 arguments (1 given)\n",
    "#list1.insert(\"last element\")\n",
    "\n",
    "list1.insert(len(list1)+3,\"last element\")\n",
    "print(list1)\n",
    "list1.insert(len(list1)+2,\"last element2\")\n",
    "print(list1)\n",
    "list1.insert(-1,\"- End element\")\n",
    "print(list1)\n",
    "list1.insert(-2,\"- End2 element\")\n",
    "print(list1)\n",
    "\n",
    "#Extend\n",
    "#extend will join the list with list1\n",
    "l2 =[4,5,6]\n",
    "l1.extend(l2);\n",
    "print(\"Extend example:\",l1)"
   ]
  },
  {
   "cell_type": "markdown",
   "metadata": {},
   "source": [
    "# List Remove, List Delete"
   ]
  },
  {
   "cell_type": "code",
   "execution_count": 30,
   "metadata": {},
   "outputs": [
    {
     "name": "stdout",
     "output_type": "stream",
     "text": [
      "list before remove ['one', 'two', 'three', 'four', 'two']\n",
      "list after remove ['one', 'three', 'four', 'two']\n"
     ]
    },
    {
     "ename": "ValueError",
     "evalue": "list.remove(x): x not in list",
     "output_type": "error",
     "traceback": [
      "\u001b[0;31m---------------------------------------------------------------------------\u001b[0m",
      "\u001b[0;31mValueError\u001b[0m                                Traceback (most recent call last)",
      "\u001b[0;32m<ipython-input-30-7a8863c14681>\u001b[0m in \u001b[0;36m<module>\u001b[0;34m()\u001b[0m\n\u001b[1;32m      7\u001b[0m \u001b[0mprint\u001b[0m\u001b[0;34m(\u001b[0m\u001b[0;34m\"list after remove\"\u001b[0m\u001b[0;34m,\u001b[0m\u001b[0mlst\u001b[0m\u001b[0;34m)\u001b[0m\u001b[0;34m\u001b[0m\u001b[0m\n\u001b[1;32m      8\u001b[0m \u001b[0;34m\u001b[0m\u001b[0m\n\u001b[0;32m----> 9\u001b[0;31m \u001b[0mlst\u001b[0m\u001b[0;34m.\u001b[0m\u001b[0mremove\u001b[0m\u001b[0;34m(\u001b[0m\u001b[0;34m\"five\"\u001b[0m\u001b[0;34m)\u001b[0m\u001b[0;34m\u001b[0m\u001b[0m\n\u001b[0m\u001b[1;32m     10\u001b[0m \u001b[0mprint\u001b[0m\u001b[0;34m(\u001b[0m\u001b[0;34m\"list after remove\"\u001b[0m\u001b[0;34m,\u001b[0m\u001b[0mlst\u001b[0m\u001b[0;34m)\u001b[0m\u001b[0;34m\u001b[0m\u001b[0m\n",
      "\u001b[0;31mValueError\u001b[0m: list.remove(x): x not in list"
     ]
    }
   ],
   "source": [
    "#syntax: lst.remove(x) \n",
    "\n",
    "lst = ['one', 'two', 'three', 'four', 'two']\n",
    "\n",
    "print(\"list before remove\",lst)\n",
    "lst.remove('two') #it will remove first occurence of 'two' in a given list \n",
    "print(\"list after remove\",lst)\n",
    "\n",
    "#if removing element is not in list, code will throw error\n",
    "#list.remove(x): x not in list\n",
    "lst.remove(\"five\")\n",
    "print(\"list after remove\",lst)\n",
    "\n"
   ]
  },
  {
   "cell_type": "code",
   "execution_count": 42,
   "metadata": {},
   "outputs": [
    {
     "name": "stdout",
     "output_type": "stream",
     "text": [
      "remove using del keyword  ['one', 'three', 'four', 'two']\n",
      "remove last element pop function  ['one', 'three', 'four']\n"
     ]
    }
   ],
   "source": [
    "# List Remove\n",
    "# remove using del keyword\n",
    "lst = ['one', 'two', 'three', 'four', 'two']\n",
    "del lst[1] #remove the element from index\n",
    "print(\"remove using del keyword \",lst) \n",
    "\n",
    "#lst.pop(len(lst))#index out of range\n",
    "#print(\"remove using pop function \",lst) \n",
    "\n",
    "lst.pop(-1)\n",
    "print(\"remove last element pop function \",lst) \n",
    "\n"
   ]
  },
  {
   "cell_type": "markdown",
   "metadata": {},
   "source": [
    "# element in list ? list reverse , list sort"
   ]
  },
  {
   "cell_type": "code",
   "execution_count": 52,
   "metadata": {},
   "outputs": [
    {
     "name": "stdout",
     "output_type": "stream",
     "text": [
      "1 found in list\n",
      "6 not found in list\n",
      "reverse list [5, 4, 3, 2, 1]\n",
      "sorted list [1, 2, 3, 4, 5]\n",
      "Reverse sorted list using sorted function [5, 4, 3, 2, 1]\n",
      "[1, 2, 2.4, 3, 4, 4.5, 5, 6, 7]\n",
      "[7, 6, 5, 4.5, 4, 3, 2.4, 2, 1]\n"
     ]
    }
   ],
   "source": [
    "lst=[1,2,3,4,5]\n",
    "if 1 in lst:\n",
    "    print(\"{} found in list\".format(1))\n",
    "\n",
    "if 6 not in lst:    \n",
    "    print(\"{} not found in list\".format(6))\n",
    "\n",
    "\n",
    "lst.reverse()\n",
    "print(\"reverse list\", lst)\n",
    "\n",
    "lst.sort()\n",
    "print(\"sorted list\",lst)\n",
    "\n",
    "rs=sorted(lst,reverse=True)\n",
    "print(\"Reverse sorted list using sorted function\",rs);\n",
    "\n",
    "#sort the list of int and float\n",
    "lst=[2,3,1,2.4,4.5,7,5,6,4]\n",
    "lst.sort();\n",
    "print(lst);\n",
    "\n",
    "\n",
    "sl=sorted(lst,reverse=True);\n",
    "print(sl);\n",
    "\n",
    "#if we can not compare element we can not sort\n",
    "# TypeError: '<' not supported between instances of 'str' and 'int'\n",
    "#lst=[1,'A',2,'B','C',4]\n",
    "#lst.sort()\n",
    "#print(lst)\n",
    "\n"
   ]
  },
  {
   "cell_type": "markdown",
   "metadata": {},
   "source": [
    "# List Having Multiple References"
   ]
  },
  {
   "cell_type": "code",
   "execution_count": 54,
   "metadata": {},
   "outputs": [
    {
     "name": "stdout",
     "output_type": "stream",
     "text": [
      "Original list:  [1, 2, 3, 4, 5, 6]\n"
     ]
    }
   ],
   "source": [
    "lst = [1, 2, 3, 4, 5]\n",
    "abc = lst\n",
    "abc.append(6)\n",
    "#print original list\n",
    "print(\"Original list: \", lst)"
   ]
  },
  {
   "cell_type": "markdown",
   "metadata": {},
   "source": [
    "# String Split to create a list"
   ]
  },
  {
   "cell_type": "code",
   "execution_count": 58,
   "metadata": {},
   "outputs": [
    {
     "name": "stdout",
     "output_type": "stream",
     "text": [
      "['1', '2', '3', '4', '5', '6']\n",
      "['This', 'is', 'applied', 'AI', 'Course']\n"
     ]
    }
   ],
   "source": [
    "str1=\"1,2,3,4,5,6\"\n",
    "lst=str1.split(',')\n",
    "print(lst)\n",
    "s = \"This is applied AI Course\"\n",
    "print(s.split(' '))"
   ]
  },
  {
   "cell_type": "markdown",
   "metadata": {},
   "source": [
    "# List indexing\n"
   ]
  },
  {
   "cell_type": "code",
   "execution_count": 61,
   "metadata": {},
   "outputs": [
    {
     "name": "stdout",
     "output_type": "stream",
     "text": [
      "Course\n",
      "AI\n"
     ]
    }
   ],
   "source": [
    "lst=['This', 'is', 'applied', 'AI', 'Course']\n",
    "\n",
    "#           'This', 'is', 'applied', 'AI', 'Course'\n",
    "#              0       1      2         3      4\n",
    "#-ve path.   -5      -4     -3        -2     -1    \n",
    "print(lst[-1])\n",
    "print(lst[-2])"
   ]
  },
  {
   "cell_type": "markdown",
   "metadata": {},
   "source": [
    "# List Slicing\n",
    "Accessing parts of segments is called slicing.\n",
    "The key point to remember is that the :end value represents the first value that is not in the selected slice."
   ]
  },
  {
   "cell_type": "code",
   "execution_count": 75,
   "metadata": {},
   "outputs": [
    {
     "name": "stdout",
     "output_type": "stream",
     "text": [
      "[10, 20, 30, 40, 50, 60, 70, 80]\n",
      "[10, 20, 30, 40, 50]\n",
      "[30, 40, 50, 60]\n",
      "[30, 40, 50, 60, 70, 80]\n",
      "[10, 30, 50, 70]\n",
      "[80, 60, 40, 20]\n",
      "[]\n",
      "[60, 50, 40, 30]\n",
      "[30, 50, 70]\n"
     ]
    }
   ],
   "source": [
    "#use slicing :\n",
    "#its more like left : right which is range \n",
    "# if range is not defince then it will take all element\n",
    "# we can slice element with incr 2 steps usig left:right:2\n",
    "# Example\n",
    "numbers = [10, 20, 30, 40, 50,60,70,80]\n",
    "\n",
    "#print all numbers\n",
    "print(numbers[:]) \n",
    "\n",
    "#print from default to index 5\n",
    "print(numbers[:5])\n",
    "#print from index 2 to index 6\n",
    "print(numbers[2:6])\n",
    "\n",
    "#print from index 2 to default\n",
    "print(numbers[2:])\n",
    "\n",
    "\n",
    "#print alternate elements in a list\n",
    "print(numbers[::2])\n",
    "\n",
    "#print alternate elements from last\n",
    "print(numbers[::-2])\n",
    "\n",
    "#print from last\n",
    "print(numbers[1:5:-1])\n",
    "print(numbers[5:1:-1])\n",
    "\n",
    "\n",
    "\n",
    "#print elemnts start from 2 through rest of the list\n",
    "print(numbers[2::2])\n",
    "\n",
    "\n"
   ]
  },
  {
   "cell_type": "markdown",
   "metadata": {},
   "source": [
    "# List extend using \"+\" and  List Count\n"
   ]
  },
  {
   "cell_type": "code",
   "execution_count": 81,
   "metadata": {},
   "outputs": [
    {
     "name": "stdout",
     "output_type": "stream",
     "text": [
      "[1, 2, 3, 4, 'varma', 'naveen', 'murali', 'brahma']\n",
      "[1, 2, 3, 4, 'varma', 'naveen', 'murali', 'brahma', 1, 2, 3, 4, 'varma', 'naveen', 'murali', 'brahma']\n",
      "frequency of 1 is  2\n",
      "frequency of 3 is  2\n"
     ]
    }
   ],
   "source": [
    "lst1 = [1, 2, 3, 4]\n",
    "lst2 = ['varma', 'naveen', 'murali', 'brahma']\n",
    "new_lst = lst1 + lst2\n",
    "print(new_lst)\n",
    "\n",
    "new_lst+=new_lst\n",
    "print(new_lst)\n",
    "\n",
    "\n",
    "numbers = [1, 2, 3, 1, 3, 4, 2, 5]\n",
    "\n",
    "#frequency of 1 in a list\n",
    "print(\"frequency of 1 is \",numbers.count(1))\n",
    "\n",
    "#frequency of 3 in a list\n",
    "print(\"frequency of 3 is \",numbers.count(3))"
   ]
  },
  {
   "cell_type": "markdown",
   "metadata": {},
   "source": [
    "# List Comprehensions\n",
    "List comprehensions provide a concise way to create lists.\n",
    "Common applications are to make new lists where each element is the result of some operations applied to each member of another sequence or iterable, or to create a subsequence of those elements that satisfy a certain condition."
   ]
  },
  {
   "cell_type": "code",
   "execution_count": 86,
   "metadata": {},
   "outputs": [
    {
     "name": "stdout",
     "output_type": "stream",
     "text": [
      "[0, 1, 4, 9, 16, 25, 36, 49, 64, 81]\n",
      "[0, 1, 4, 9, 16, 25, 36, 49, 64, 81]\n",
      "[-20, -40, 20, 40, 100]\n",
      "[10, 20, 50]\n",
      "[(1, 1), (2, 4), (3, 9), (4, 16), (5, 25), (6, 36), (7, 49), (8, 64), (9, 81), (10, 100)]\n"
     ]
    }
   ],
   "source": [
    "# without list comprehension\n",
    "squares = []\n",
    "for i in range(10):\n",
    "    squares.append(i**2)   #list append\n",
    "print(squares)\n",
    "    \n",
    "#using comprehension\n",
    "\n",
    "squares = [i**2 for i in range(10)]\n",
    "print(squares)\n",
    "\n",
    "\n",
    "#example\n",
    "\n",
    "lst = [-10, -20, 10, 20, 50]\n",
    "\n",
    "#create a new list with values doubled\n",
    "new_lst = [i*2 for i in lst]\n",
    "print(new_lst)\n",
    "\n",
    "#filter the list to exclude negative numbers\n",
    "new_lst = [i for i in lst if i>0]\n",
    "print(new_lst)\n",
    "\n",
    "tuple_list =[(i,i**2) for i in range(1,11)]\n",
    "print(tuple_list)"
   ]
  },
  {
   "cell_type": "markdown",
   "metadata": {},
   "source": [
    "# Nested List Comprehensions"
   ]
  },
  {
   "cell_type": "code",
   "execution_count": 96,
   "metadata": {},
   "outputs": [
    {
     "name": "stdout",
     "output_type": "stream",
     "text": [
      "[[1, 5, 9], [2, 6, 10], [3, 7, 11], [4, 8, 12]]\n"
     ]
    }
   ],
   "source": [
    "#let's suppose we have a matrix\n",
    "\n",
    "matrix = [\n",
    "    [1, 2, 3, 4],\n",
    "    [5, 6, 7, 8],\n",
    "    [9, 10, 11, 12]\n",
    "]\n",
    "\n",
    "#transpose of a matrix without list comprehension\n",
    "transposed = []\n",
    "for i in range(4):\n",
    "    lst=[]\n",
    "    for row in matrix:\n",
    "        lst.append(row[i]);\n",
    "    transposed.append(lst)\n",
    "print(transposed)"
   ]
  },
  {
   "cell_type": "code",
   "execution_count": 98,
   "metadata": {},
   "outputs": [
    {
     "name": "stdout",
     "output_type": "stream",
     "text": [
      "[[1, 5, 9], [2, 6, 10], [3, 7, 11], [4, 8, 12]]\n"
     ]
    }
   ],
   "source": [
    "#with list comprehension\n",
    "transposed=[[row[i] for row in matrix] for i in range(4)]\n",
    "print(transposed)"
   ]
  }
 ],
 "metadata": {
  "kernelspec": {
   "display_name": "Python 3",
   "language": "python",
   "name": "python3"
  },
  "language_info": {
   "codemirror_mode": {
    "name": "ipython",
    "version": 3
   },
   "file_extension": ".py",
   "mimetype": "text/x-python",
   "name": "python",
   "nbconvert_exporter": "python",
   "pygments_lexer": "ipython3",
   "version": "3.6.5"
  }
 },
 "nbformat": 4,
 "nbformat_minor": 2
}
