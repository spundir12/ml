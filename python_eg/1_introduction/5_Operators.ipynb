{
 "cells": [
  {
   "cell_type": "markdown",
   "metadata": {},
   "source": [
    "# Operators\n",
    "\n",
    "Special symbol in python which are responsible for arithmetic or logical computation\n",
    "\n",
    "# Operator Type\n",
    "1. Arithmetic operator (*, /, //, **, %, +, -)\n",
    "2. Comparison operator (<, <=, >, >=, ==, !=)\n",
    "3. Logical Operators (and, or, not)\n",
    "4. Bitwise operators (&, |, ~, ^, >>, <<)\n",
    "5. Assignment operators (=,*=, /=, //=, **=, %=, +=, -=, &=, |=, ~=, ^=, >>=, <<=)\n",
    "6. Special Operators\n",
    "   a. Identity operators (is, is not)\n",
    "   b. Membership operators (in, not in)\n",
    "\n"
   ]
  },
  {
   "cell_type": "markdown",
   "metadata": {},
   "source": [
    "# Example:"
   ]
  },
  {
   "cell_type": "code",
   "execution_count": 1,
   "metadata": {},
   "outputs": [
    {
     "name": "stdout",
     "output_type": "stream",
     "text": [
      "7\n",
      "-8\n",
      "16\n",
      "-16\n",
      "a and b is  2\n",
      "True\n",
      "s1 is s2 =  True\n",
      "value1==value2  True\n",
      "value1 is value2  False\n",
      "True\n",
      "value1 address : 4487028360  and value2 address : 4487169032\n",
      "True\n",
      "False\n",
      "False\n",
      "True\n",
      "True\n",
      "False\n",
      "True\n"
     ]
    }
   ],
   "source": [
    "# // is floor divistion\n",
    "\n",
    "a , b = 15 , 2\n",
    "print(a//b) #floor value (15/2 is 7.5 => 7  )\n",
    "\n",
    "print((-15//2)) #outuput is -8 in -ve -8 is smaller than -7.5\n",
    "\n",
    "\n",
    "# ** is exponential \n",
    "print(2**4) #output is 16\n",
    "print(-2**4) #output is -16 becuase ** is having higher precedance \n",
    "\n",
    "#logical operator\n",
    "a=5;b=2\n",
    "print(\"a and b is \",a and b) #output is 2; if a is true it will look for next value and return value\n",
    "                            #not x   Returns True if x is True, False otherwise\n",
    "                            #x and y Returns x if x is False, y otherwise\n",
    "                            #x or y  Returns y if x is False, x otherwise  \n",
    "\n",
    "\n",
    "\n",
    "#special operator\n",
    "# Identity operator\n",
    "a=5;b=5\n",
    "print(a is b)\n",
    "\n",
    "s1=\"hello\"; s2=\"hello\";\n",
    "print(\"s1 is s2 = \",(s1 is s2))\n",
    "\n",
    "#in complex variable\n",
    "value1=[1,2,3]\n",
    "value2=[1,2,3]\n",
    "print(\"value1==value2 \",(value1 == value2))\n",
    "print(\"value1 is value2 \",value1 is value2)\n",
    "print(value1 is not value2)\n",
    "print(\"value1 address :\",id(value1),\" and value2 address :\",id(value2))\n",
    "\n",
    "\"\"\"MemberShip Operators\n",
    "n and not in are the membership operators in Python.\n",
    "They are used to test whether a value or variable is found in a sequence (string, list, tuple, set and dictionary).\"\"\"\n",
    "\n",
    "lst = [1,3,4,5,2];\n",
    "print(1 in lst);\n",
    "print(12 in lst);\n",
    "print(11 in lst);\n",
    "print(2 in lst);\n",
    "\n",
    "\n",
    "dictnry = {1:\"a\",2:\"b\"}\n",
    "print(1 in dictnry);\n",
    "print(a in dictnry);# check key not value \n",
    "print(b not in dictnry);# check key not value \n",
    "\n",
    "\n",
    "\n",
    "\n"
   ]
  },
  {
   "cell_type": "code",
   "execution_count": null,
   "metadata": {},
   "outputs": [],
   "source": []
  }
 ],
 "metadata": {
  "kernelspec": {
   "display_name": "Python 3",
   "language": "python",
   "name": "python3"
  },
  "language_info": {
   "codemirror_mode": {
    "name": "ipython",
    "version": 3
   },
   "file_extension": ".py",
   "mimetype": "text/x-python",
   "name": "python",
   "nbconvert_exporter": "python",
   "pygments_lexer": "ipython3",
   "version": "3.6.5"
  }
 },
 "nbformat": 4,
 "nbformat_minor": 2
}
