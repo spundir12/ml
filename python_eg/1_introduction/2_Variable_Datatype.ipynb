{
 "cells": [
  {
   "cell_type": "markdown",
   "metadata": {},
   "source": [
    "# Variable\n"
   ]
  },
  {
   "cell_type": "code",
   "execution_count": 53,
   "metadata": {},
   "outputs": [
    {
     "name": "stdout",
     "output_type": "stream",
     "text": [
      "Simple assignmnet\n",
      "10 12.32 ML\n",
      "multiple assignment\n",
      "10 30.3 ML2\n"
     ]
    }
   ],
   "source": [
    "#in python no need to declare a variable and define data type\n",
    "#simple assignment\n",
    "a = 10 #integer variable\n",
    "b = 12.32  #float \n",
    "c = \"ML\" # string\n",
    "print(\"Simple assignmnet\")\n",
    "print(a,b,c)\n",
    "\n",
    "#multiple assignment\n",
    "p,q,r = 10,30.3, \"ML2\"  # 10 will assign to p, 30.3 will assign to q and ML2 will assign to r\n",
    "print(\"multiple assignment\")\n",
    "print(p,q,r);"
   ]
  },
  {
   "cell_type": "markdown",
   "metadata": {},
   "source": [
    "# Storage location"
   ]
  },
  {
   "cell_type": "code",
   "execution_count": 54,
   "metadata": {},
   "outputs": [
    {
     "name": "stdout",
     "output_type": "stream",
     "text": [
      "4510819744\n",
      "4510819744\n"
     ]
    }
   ],
   "source": [
    "# id() return memory address \n",
    "# both variable a and b will have same memory address. both are refering to constant 3 \n",
    "a = 3;\n",
    "print(id(a))\n",
    "\n",
    "b = 3;\n",
    "print(id(b))"
   ]
  },
  {
   "cell_type": "markdown",
   "metadata": {},
   "source": [
    "# Datatype\n",
    "everyting in python is Object\n",
    "1. datatype is actually a class and variables are instance(Object) of these class\n",
    "\n"
   ]
  },
  {
   "cell_type": "code",
   "execution_count": 55,
   "metadata": {},
   "outputs": [
    {
     "name": "stdout",
     "output_type": "stream",
     "text": [
      "<class 'int'>\n",
      "<class 'float'>\n",
      "<class 'str'>\n",
      "<class 'str'>\n",
      "<class 'bool'>\n",
      "<class 'complex'>\n"
     ]
    }
   ],
   "source": [
    "#example\n",
    "# everything is object therefor all variables are type of class\n",
    "a=3\n",
    "print(type(a))\n",
    "\n",
    "a=5.3\n",
    "print(type(a))\n",
    "\n",
    "a=\"Hello\" # string is unicode support multiple lanugages\n",
    "print(type(a))\n",
    "\n",
    "a='a'\n",
    "print(type(a))\n",
    "\n",
    "a=True\n",
    "print(type(a))\n",
    "\n",
    "a=1+2j #complex variable\n",
    "print(type(a))"
   ]
  },
  {
   "cell_type": "markdown",
   "metadata": {},
   "source": [
    "# Check datatype\n"
   ]
  },
  {
   "cell_type": "code",
   "execution_count": 1,
   "metadata": {},
   "outputs": [
    {
     "name": "stdout",
     "output_type": "stream",
     "text": [
      "True\n",
      "True\n",
      "True\n"
     ]
    }
   ],
   "source": [
    "#using isinstance(param1,param2), we can compare the datatype of a variable\n",
    "a=4\n",
    "print(isinstance(a,int))\n",
    "\n",
    "a=1+2j;\n",
    "print(isinstance(a,complex))\n",
    "\n",
    "a='';\n",
    "print(isinstance(a,str))\n"
   ]
  },
  {
   "cell_type": "markdown",
   "metadata": {},
   "source": [
    "# String\n",
    "1. multi line strings can be denoted using triple quotes ''' \"\"\"\n",
    "2. charcter can be used as string[0]\n",
    "3. In python string is a sequence of unicode charcter (supports multiple language).\n"
   ]
  },
  {
   "cell_type": "code",
   "execution_count": 57,
   "metadata": {},
   "outputs": [
    {
     "name": "stdout",
     "output_type": "stream",
     "text": [
      "Hello Python\n",
      "This is the example of triple quotes in python.\n",
      "It supports muti-line strings.\n",
      "First Char :  T\n",
      "Last Char :  .\n",
      "last Char :  .\n",
      "last Char :  s\n",
      "<class 'str'>\n"
     ]
    },
    {
     "data": {
      "text/plain": [
       "'is th'"
      ]
     },
     "execution_count": 57,
     "metadata": {},
     "output_type": "execute_result"
    }
   ],
   "source": [
    "s=\"Hello Python\"\n",
    "print(s);\n",
    "\n",
    "s=\"\"\"This is the example of triple quotes in python.\n",
    "It supports muti-line strings.\"\"\"\n",
    "print(s);\n",
    "\n",
    "\n",
    "#We can index string to use the character\n",
    "print(\"First Char : \",s[0])\n",
    "print(\"Last Char : \",s[len(s)-1])\n",
    "\n",
    "# -ve start from last index\n",
    "print(\"last Char : \",s[-1]) \n",
    "print(\"last Char : \",s[-2]) \n",
    "\n",
    "print(type(s[0]))\n",
    "\n",
    "#Slice a string\n",
    "#print everything in string from 5\n",
    "s[5:]\n",
    "s[5:10] #10 is exclusive\n"
   ]
  },
  {
   "cell_type": "markdown",
   "metadata": {},
   "source": [
    "# Python List\n",
    "1. List is ordered sequence of items. It is one of the most used datatype in python and its very flexible. \n",
    "2. List in generic which means that all the item in list need not to be of same data type\n",
    "3. Declaring a list is, Item seperated by commas are enclosed within [] "
   ]
  },
  {
   "cell_type": "code",
   "execution_count": 58,
   "metadata": {},
   "outputs": [
    {
     "name": "stdout",
     "output_type": "stream",
     "text": [
      "[10, 20.5, 'Name']\n",
      "10\n",
      "[10, 30.34, 'Name']\n"
     ]
    }
   ],
   "source": [
    "list=[10,20.5,\"Name\"]\n",
    "print(list)\n",
    "print(list[0])\n",
    "\n",
    "#list are mutable which means that value of an element can be altered\n",
    "list[1]=30.34\n",
    "print(list)"
   ]
  },
  {
   "cell_type": "markdown",
   "metadata": {},
   "source": [
    "# Python Tuple\n",
    "1. Tuple is an ordered sequence of items similar to list but tuples are immutable. Once tuple is created, it can not be modified. "
   ]
  },
  {
   "cell_type": "code",
   "execution_count": 59,
   "metadata": {},
   "outputs": [
    {
     "name": "stdout",
     "output_type": "stream",
     "text": [
      "(1, 20.3, 'hello')\n",
      "hello\n"
     ]
    },
    {
     "ename": "TypeError",
     "evalue": "'tuple' object does not support item assignment",
     "output_type": "error",
     "traceback": [
      "\u001b[0;31m---------------------------------------------------------------------------\u001b[0m",
      "\u001b[0;31mTypeError\u001b[0m                                 Traceback (most recent call last)",
      "\u001b[0;32m<ipython-input-59-cb09c06e3b04>\u001b[0m in \u001b[0;36m<module>\u001b[0;34m()\u001b[0m\n\u001b[1;32m      5\u001b[0m \u001b[0;34m\u001b[0m\u001b[0m\n\u001b[1;32m      6\u001b[0m \u001b[0;31m#tuple is immutable\u001b[0m\u001b[0;34m\u001b[0m\u001b[0;34m\u001b[0m\u001b[0m\n\u001b[0;32m----> 7\u001b[0;31m \u001b[0mtuple\u001b[0m\u001b[0;34m[\u001b[0m\u001b[0;36m1\u001b[0m\u001b[0;34m]\u001b[0m\u001b[0;34m=\u001b[0m\u001b[0;36m39.8\u001b[0m\u001b[0;34m\u001b[0m\u001b[0m\n\u001b[0m\u001b[1;32m      8\u001b[0m \u001b[0mprint\u001b[0m\u001b[0;34m(\u001b[0m\u001b[0mtuple\u001b[0m\u001b[0;34m)\u001b[0m \u001b[0;31m#TypeError: 'tuple' object does not support item assignment\u001b[0m\u001b[0;34m\u001b[0m\u001b[0m\n",
      "\u001b[0;31mTypeError\u001b[0m: 'tuple' object does not support item assignment"
     ]
    }
   ],
   "source": [
    "#tuple use () to store items\n",
    "tuple = (1,20.3,\"hello\")\n",
    "print(tuple)\n",
    "print(tuple[len(tuple)-1])\n",
    "\n",
    "#tuple is immutable\n",
    "tuple[1]=39.8\n",
    "print(tuple) #TypeError: 'tuple' object does not support item assignment"
   ]
  },
  {
   "cell_type": "markdown",
   "metadata": {},
   "source": [
    "# Python Set\n",
    "1. Unlike list and tuple Set is an unordered collection of unique item.\n",
    "2. It does not allow duplicate item.\n",
    "3. Set values are seprated by comma inside curly braces {}\n"
   ]
  },
  {
   "cell_type": "code",
   "execution_count": 60,
   "metadata": {},
   "outputs": [
    {
     "name": "stdout",
     "output_type": "stream",
     "text": [
      "{1, 2, 3, 4, 5, 6}\n",
      "<class 'set'>\n"
     ]
    },
    {
     "ename": "TypeError",
     "evalue": "'set' object does not support indexing",
     "output_type": "error",
     "traceback": [
      "\u001b[0;31m---------------------------------------------------------------------------\u001b[0m",
      "\u001b[0;31mTypeError\u001b[0m                                 Traceback (most recent call last)",
      "\u001b[0;32m<ipython-input-60-29f701cb8ace>\u001b[0m in \u001b[0;36m<module>\u001b[0;34m()\u001b[0m\n\u001b[1;32m      5\u001b[0m \u001b[0;34m\u001b[0m\u001b[0m\n\u001b[1;32m      6\u001b[0m \u001b[0;34m\u001b[0m\u001b[0m\n\u001b[0;32m----> 7\u001b[0;31m \u001b[0mprint\u001b[0m\u001b[0;34m(\u001b[0m\u001b[0mset\u001b[0m\u001b[0;34m[\u001b[0m\u001b[0;36m0\u001b[0m\u001b[0;34m]\u001b[0m\u001b[0;34m)\u001b[0m \u001b[0;31m# TypeError: set' object does not support indexing\u001b[0m\u001b[0;34m\u001b[0m\u001b[0m\n\u001b[0m\u001b[1;32m      8\u001b[0m               \u001b[0;31m# Set is unordered collections.\u001b[0m\u001b[0;34m\u001b[0m\u001b[0;34m\u001b[0m\u001b[0m\n",
      "\u001b[0;31mTypeError\u001b[0m: 'set' object does not support indexing"
     ]
    }
   ],
   "source": [
    "# we can perform intersection, unition operation of set on two sets\n",
    "set = {1,2,3,4,4,5,6} # set will remove duplicate values\n",
    "print(set)\n",
    "print(type(set))\n",
    "\n",
    "\n",
    "print(set[0]) # TypeError: set' object does not support indexing\n",
    "              # Set is unordered collections.  \n",
    "\n"
   ]
  },
  {
   "cell_type": "markdown",
   "metadata": {},
   "source": [
    "# Python Dictionary \n",
    "1. Dictionary\\Map\\HashTable is an unordered collection of key-value pairs.\n",
    "2. keys are unique but value can be duplicate "
   ]
  },
  {
   "cell_type": "code",
   "execution_count": 61,
   "metadata": {},
   "outputs": [
    {
     "name": "stdout",
     "output_type": "stream",
     "text": [
      "apple\n"
     ]
    }
   ],
   "source": [
    "dict={'a':\"apple\", 'b':\"banana\"}\n",
    "print(dict['a'])"
   ]
  },
  {
   "cell_type": "markdown",
   "metadata": {},
   "source": [
    "# Conversion between datatype\n",
    "different type conversion funcation like int(),float(), str() etc are available to convert the datatype"
   ]
  },
  {
   "cell_type": "code",
   "execution_count": 62,
   "metadata": {},
   "outputs": [
    {
     "data": {
      "text/plain": [
       "5.0"
      ]
     },
     "execution_count": 62,
     "metadata": {},
     "output_type": "execute_result"
    }
   ],
   "source": [
    "float(5)"
   ]
  },
  {
   "cell_type": "code",
   "execution_count": 63,
   "metadata": {},
   "outputs": [
    {
     "data": {
      "text/plain": [
       "5"
      ]
     },
     "execution_count": 63,
     "metadata": {},
     "output_type": "execute_result"
    }
   ],
   "source": [
    "int(5.4)"
   ]
  },
  {
   "cell_type": "code",
   "execution_count": 64,
   "metadata": {},
   "outputs": [
    {
     "data": {
      "text/plain": [
       "1"
      ]
     },
     "execution_count": 64,
     "metadata": {},
     "output_type": "execute_result"
    }
   ],
   "source": [
    "int('1')"
   ]
  },
  {
   "cell_type": "code",
   "execution_count": 1,
   "metadata": {},
   "outputs": [
    {
     "data": {
      "text/plain": [
       "'20'"
      ]
     },
     "execution_count": 1,
     "metadata": {},
     "output_type": "execute_result"
    }
   ],
   "source": [
    "str(20)"
   ]
  },
  {
   "cell_type": "code",
   "execution_count": 49,
   "metadata": {},
   "outputs": [
    {
     "ename": "ValueError",
     "evalue": "invalid literal for int() with base 10: '2j'",
     "output_type": "error",
     "traceback": [
      "\u001b[0;31m---------------------------------------------------------------------------\u001b[0m",
      "\u001b[0;31mValueError\u001b[0m                                Traceback (most recent call last)",
      "\u001b[0;32m<ipython-input-49-c8a67dc50266>\u001b[0m in \u001b[0;36m<module>\u001b[0;34m()\u001b[0m\n\u001b[0;32m----> 1\u001b[0;31m \u001b[0mint\u001b[0m\u001b[0;34m(\u001b[0m\u001b[0;34m'2j'\u001b[0m\u001b[0;34m)\u001b[0m\u001b[0;34m\u001b[0m\u001b[0m\n\u001b[0m",
      "\u001b[0;31mValueError\u001b[0m: invalid literal for int() with base 10: '2j'"
     ]
    }
   ],
   "source": [
    "int('2j')"
   ]
  },
  {
   "cell_type": "code",
   "execution_count": 6,
   "metadata": {},
   "outputs": [
    {
     "name": "stdout",
     "output_type": "stream",
     "text": [
      "This book Python contains 1000 pages.\n"
     ]
    }
   ],
   "source": [
    "book=\"Python\"\n",
    "pages = 1000;\n",
    "\n",
    "#below line will throw error : TypeError: must be str, not int\n",
    "#print(\"This book \"+book+\" contains \"+pages+\" pages.\")\n",
    "\n",
    "#to fix this we have to convert pages to string\n",
    "print(\"This book \"+book+\" contains \"+str(pages)+\" pages.\")"
   ]
  },
  {
   "cell_type": "code",
   "execution_count": 9,
   "metadata": {},
   "outputs": [
    {
     "name": "stdout",
     "output_type": "stream",
     "text": [
      "<class 'list'>\n",
      "<class 'set'>\n"
     ]
    }
   ],
   "source": [
    "#convert one sequence to other\n",
    "a=[1,2,3]\n",
    "print(type(a))\n",
    "s=set(a)\n",
    "print(type(s))"
   ]
  },
  {
   "cell_type": "code",
   "execution_count": 10,
   "metadata": {},
   "outputs": [
    {
     "data": {
      "text/plain": [
       "['h', 'e', 'l', 'l', 'o']"
      ]
     },
     "execution_count": 10,
     "metadata": {},
     "output_type": "execute_result"
    }
   ],
   "source": [
    "#convert string to list using list method\n",
    "list(\"hello\")"
   ]
  },
  {
   "cell_type": "code",
   "execution_count": null,
   "metadata": {},
   "outputs": [],
   "source": []
  }
 ],
 "metadata": {
  "kernelspec": {
   "display_name": "Python 3",
   "language": "python",
   "name": "python3"
  },
  "language_info": {
   "codemirror_mode": {
    "name": "ipython",
    "version": 3
   },
   "file_extension": ".py",
   "mimetype": "text/x-python",
   "name": "python",
   "nbconvert_exporter": "python",
   "pygments_lexer": "ipython3",
   "version": "3.6.5"
  }
 },
 "nbformat": 4,
 "nbformat_minor": 2
}
