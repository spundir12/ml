{
 "cells": [
  {
   "cell_type": "markdown",
   "metadata": {},
   "source": [
    "# Control Flow\n",
    "1. if\n",
    "2. if-else\n",
    "3. if-elif-else\n",
    "\n",
    "in python \n",
    "    0, None, False considered as False\n",
    "    rest is considered as True"
   ]
  },
  {
   "cell_type": "code",
   "execution_count": 8,
   "metadata": {},
   "outputs": [
    {
     "name": "stdout",
     "output_type": "stream",
     "text": [
      "Positive numbr\n",
      "--------------done--------------\n",
      "zero\n",
      "--------------done--------------\n",
      "Zero\n",
      "--------------done--------------\n",
      "positive\n",
      "--------------done--------------\n",
      "largest number: 21\n"
     ]
    }
   ],
   "source": [
    "#example\n",
    "a=10\n",
    "if(a==10):\n",
    "    print(\"Positive numbr\")\n",
    "print(\"--------------done--------------\");\n",
    "\n",
    "b=0\n",
    "if(b):\n",
    "    print(\"non-zero\")\n",
    "else:\n",
    "    print(\"zero\")\n",
    "print(\"--------------done--------------\");\n",
    "\n",
    "\n",
    "\n",
    "c=0\n",
    "if(c>0):\n",
    "    print(\"Positive\")\n",
    "elif(c==0):\n",
    "    print(\"Zero\")\n",
    "else:\n",
    "    print(\"Negative\")\n",
    "print(\"--------------done--------------\");\n",
    "\n",
    "\n",
    "#Nested if\n",
    "d=10\n",
    "if(d>=0):\n",
    "    if(d==0):\n",
    "        print(\"Zero\")\n",
    "    else:\n",
    "        print(\"positive\")\n",
    "else:\n",
    "    print(\"negative\")\n",
    "\n",
    "print(\"--------------done--------------\");\n",
    "\n",
    "\n",
    "#find largest\n",
    "a=10;b=12;c=21\n",
    "if(a>b and a>c):\n",
    "    print(\"largest number:\",a)\n",
    "elif(b>a and b>c):\n",
    "    print(\"largest number:\",b)\n",
    "else:\n",
    "    print(\"largest number:\",c)\n",
    "    \n"
   ]
  },
  {
   "cell_type": "code",
   "execution_count": null,
   "metadata": {},
   "outputs": [],
   "source": []
  }
 ],
 "metadata": {
  "kernelspec": {
   "display_name": "Python 3",
   "language": "python",
   "name": "python3"
  },
  "language_info": {
   "codemirror_mode": {
    "name": "ipython",
    "version": 3
   },
   "file_extension": ".py",
   "mimetype": "text/x-python",
   "name": "python",
   "nbconvert_exporter": "python",
   "pygments_lexer": "ipython3",
   "version": "3.6.5"
  }
 },
 "nbformat": 4,
 "nbformat_minor": 2
}
