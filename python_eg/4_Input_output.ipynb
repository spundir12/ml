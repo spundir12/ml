{
 "cells": [
  {
   "cell_type": "markdown",
   "metadata": {},
   "source": [
    "# Python Input and Output"
   ]
  },
  {
   "cell_type": "markdown",
   "metadata": {},
   "source": [
    "# Python Output\n",
    "in python we use print() function to output data to the standard output device"
   ]
  },
  {
   "cell_type": "code",
   "execution_count": 3,
   "metadata": {},
   "outputs": [
    {
     "ename": "SyntaxError",
     "evalue": "Missing parentheses in call to 'print'. Did you mean print(\"hello\")? (<ipython-input-3-141b8d33d8a6>, line 2)",
     "output_type": "error",
     "traceback": [
      "\u001b[0;36m  File \u001b[0;32m\"<ipython-input-3-141b8d33d8a6>\"\u001b[0;36m, line \u001b[0;32m2\u001b[0m\n\u001b[0;31m    print \"hello\"\u001b[0m\n\u001b[0m                ^\u001b[0m\n\u001b[0;31mSyntaxError\u001b[0m\u001b[0;31m:\u001b[0m Missing parentheses in call to 'print'. Did you mean print(\"hello\")?\n"
     ]
    }
   ],
   "source": [
    "print(\"hello\")\n",
    "\n",
    "#below code does not support in python3 , Older version this was correct\n",
    "print \"hello\""
   ]
  },
  {
   "cell_type": "markdown",
   "metadata": {},
   "source": [
    "# Output Formatting"
   ]
  },
  {
   "cell_type": "code",
   "execution_count": 24,
   "metadata": {},
   "outputs": [
    {
     "name": "stdout",
     "output_type": "stream",
     "text": [
      "10 20\n",
      "value of a is 10 and value of b is 20\n",
      "value of a is 10 and value of b is 20\n",
      "value of b is 20 and value of a is 10\n",
      "Hello Ravi, Good Morning\n",
      "Hello Ravi, Good Night\n",
      "Hello Ravi, Good Night\n"
     ]
    }
   ],
   "source": [
    "a=10;b=20\n",
    "print(a,b);\n",
    "print(f\"value of a is {a} and value of b is {b}\")\n",
    "print(\"value of a is {} and value of b is {}\".format(a,b))\n",
    "\n",
    "\n",
    "#if number of {} > than the passing value in format it will throw error \n",
    "#IndexError: tuple index out of range\n",
    "#print(\"value of a is {} and value of b is {} and result is {}\".format(a,b))\n",
    "\n",
    "#we can specify index\\position of the argument {}\n",
    "print(\"value of b is {1} and value of a is {0}\".format(a,b))\n",
    "\n",
    "#throw error\n",
    "#print(\"value of b is {b} and value of a is {a}\".format(a,b))\n",
    "\n",
    "#we can use keyword arguments to format the string\n",
    "print(\"Hello {name}, {greeting}\".format(name=\"Ravi\",greeting=\"Good Morning\"))\n",
    "\n",
    "#we can combine positional arguments with keyword arguments\n",
    "print(\"Hello {}, {greeting}\".format(\"Ravi\",greeting=\"Good Night\"))\n",
    "print(\"Hello {0}, {greeting}\".format(\"Ravi\",greeting=\"Good Night\"))\n",
    "\n",
    "\n"
   ]
  },
  {
   "cell_type": "markdown",
   "metadata": {},
   "source": [
    "# Python Input"
   ]
  },
  {
   "cell_type": "code",
   "execution_count": 22,
   "metadata": {},
   "outputs": [
    {
     "name": "stdout",
     "output_type": "stream",
     "text": [
      "Enter value:saransh\n",
      "saransh\n"
     ]
    }
   ],
   "source": [
    "#using input() function we can read value \n",
    "val=input(\"Enter value:\")\n",
    "print(val)"
   ]
  },
  {
   "cell_type": "code",
   "execution_count": 25,
   "metadata": {},
   "outputs": [
    {
     "name": "stdout",
     "output_type": "stream",
     "text": [
      "ram has 2 Chocolate, Lucky has 6 cookies\n",
      "ram has 3 Chocolate,Lucky has 6 cookies\n"
     ]
    }
   ],
   "source": [
    "a = [1,2,3] ; b = [2,4,6]\n",
    "#Accessing Lists\n",
    "print(\"ram has {} Chocolate, Lucky has {} cookies\".format(a[1],b[2]))\n",
    "c = {'d':3,'e':6}\n",
    "#Accessing Dict\n",
    "print(\"ram has {} Chocolate,Lucky has {} cookies\".format(c['d'],c['e']))\n",
    "\n"
   ]
  },
  {
   "cell_type": "code",
   "execution_count": null,
   "metadata": {},
   "outputs": [],
   "source": []
  }
 ],
 "metadata": {
  "kernelspec": {
   "display_name": "Python 3",
   "language": "python",
   "name": "python3"
  },
  "language_info": {
   "codemirror_mode": {
    "name": "ipython",
    "version": 3
   },
   "file_extension": ".py",
   "mimetype": "text/x-python",
   "name": "python",
   "nbconvert_exporter": "python",
   "pygments_lexer": "ipython3",
   "version": "3.6.5"
  }
 },
 "nbformat": 4,
 "nbformat_minor": 2
}
